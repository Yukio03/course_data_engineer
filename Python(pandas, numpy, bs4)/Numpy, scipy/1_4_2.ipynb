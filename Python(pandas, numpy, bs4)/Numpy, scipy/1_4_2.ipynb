{
  "nbformat": 4,
  "nbformat_minor": 0,
  "metadata": {
    "colab": {
      "provenance": [],
      "collapsed_sections": []
    },
    "kernelspec": {
      "name": "python3",
      "display_name": "Python 3"
    },
    "language_info": {
      "name": "python"
    }
  },
  "cells": [
    {
      "cell_type": "code",
      "execution_count": 37,
      "metadata": {
        "id": "gmgMEIko27tj"
      },
      "outputs": [],
      "source": [
        "import scipy.stats as sps\n",
        "import numpy as np\n",
        "import matplotlib.pyplot as plt\n",
        "from scipy.stats import rayleigh\n",
        "from cmath import sqrt\n",
        "%matplotlib inline"
      ]
    },
    {
      "cell_type": "code",
      "source": [
        "def heart_1(x):\n",
        "    return 1/2*x**(2/3)+(1/4*(x**4)**(1/3)-x**2+1)**0.5\n",
        "def heart_2(x):\n",
        "    return 1/2*x**(2/3)-(1/4*(x**4)**(1/3)-x**2+1)**0.5\n",
        "def heart_3(x):\n",
        "    x = -1*x\n",
        "    return 1/2*x**(2/3)+(1/4*(x**4)**(1/3)-x**2+1)**0.5\n",
        "def heart_4(x):\n",
        "    x = -1*x\n",
        "    return 1/2*x**(2/3)-(1/4*(x**4)**(1/3)-x**2+1)**0.5"
      ],
      "metadata": {
        "id": "xNLpEUUs47cs"
      },
      "execution_count": 41,
      "outputs": []
    },
    {
      "cell_type": "code",
      "source": [
        "x1 = np.arange(-1.5, 1.5, 0.001)\n",
        "x2 = np.arange(-1.5, 1.5, 0.001)\n",
        "x3 = np.arange(-1.5, 1.5, 0.001)\n",
        "x4 = np.arange(-1.5, 1.5, 0.001)"
      ],
      "metadata": {
        "id": "vFw2f7xD47ea"
      },
      "execution_count": 42,
      "outputs": []
    },
    {
      "cell_type": "code",
      "source": [
        "y1 = heart_1(x1)\n",
        "y2 = heart_2(x2)\n",
        "y3 = heart_3(x3)\n",
        "y4 = heart_4(x4)"
      ],
      "metadata": {
        "colab": {
          "base_uri": "https://localhost:8080/"
        },
        "id": "aX0cVquW47in",
        "outputId": "05289cc9-e4fd-4129-dd70-129e1e2f4d9e"
      },
      "execution_count": 43,
      "outputs": [
        {
          "output_type": "stream",
          "name": "stderr",
          "text": [
            "/usr/local/lib/python3.7/dist-packages/ipykernel_launcher.py:2: RuntimeWarning: invalid value encountered in power\n",
            "  \n",
            "/usr/local/lib/python3.7/dist-packages/ipykernel_launcher.py:2: RuntimeWarning: invalid value encountered in sqrt\n",
            "  \n",
            "/usr/local/lib/python3.7/dist-packages/ipykernel_launcher.py:4: RuntimeWarning: invalid value encountered in power\n",
            "  after removing the cwd from sys.path.\n",
            "/usr/local/lib/python3.7/dist-packages/ipykernel_launcher.py:4: RuntimeWarning: invalid value encountered in sqrt\n",
            "  after removing the cwd from sys.path.\n",
            "/usr/local/lib/python3.7/dist-packages/ipykernel_launcher.py:7: RuntimeWarning: invalid value encountered in power\n",
            "  import sys\n",
            "/usr/local/lib/python3.7/dist-packages/ipykernel_launcher.py:7: RuntimeWarning: invalid value encountered in sqrt\n",
            "  import sys\n",
            "/usr/local/lib/python3.7/dist-packages/ipykernel_launcher.py:10: RuntimeWarning: invalid value encountered in power\n",
            "  # Remove the CWD from sys.path while we load stuff.\n",
            "/usr/local/lib/python3.7/dist-packages/ipykernel_launcher.py:10: RuntimeWarning: invalid value encountered in sqrt\n",
            "  # Remove the CWD from sys.path while we load stuff.\n"
          ]
        }
      ]
    },
    {
      "cell_type": "code",
      "source": [
        "plt.plot(x1, y1, color='red')\n",
        "plt.plot(x2, y2, color='red')\n",
        "plt.grid()\n",
        "plt.plot(x3, y3, color='red')\n",
        "plt.plot(x4, y4, color='red')\n",
        "plt.figure(figsize=(16, 19))\n",
        "plt.show()"
      ],
      "metadata": {
        "colab": {
          "base_uri": "https://localhost:8080/",
          "height": 282
        },
        "id": "QF_EAeoL47qk",
        "outputId": "33067604-1820-4c9e-b097-a7b53b6db36c"
      },
      "execution_count": 44,
      "outputs": [
        {
          "output_type": "display_data",
          "data": {
            "text/plain": [
              "<Figure size 432x288 with 1 Axes>"
            ],
            "image/png": "[encoded data removed]"
          },
          "metadata": {
            "needs_background": "light"
          }
        },
        {
          "output_type": "display_data",
          "data": {
            "text/plain": [
              "<Figure size 1152x1368 with 0 Axes>"
            ]
          },
          "metadata": {}
        }
      ]
    }
  ]
}